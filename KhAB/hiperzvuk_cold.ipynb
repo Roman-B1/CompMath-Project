{
 "cells": [
  {
   "cell_type": "code",
   "execution_count": 23,
   "metadata": {
    "slideshow": {
     "slide_type": "slide"
    }
   },
   "outputs": [
    {
     "name": "stdout",
     "output_type": "stream",
     "text": [
      "783124.6777770184 738.0036194872569 1431.0308192000973 1.9067775321445861\n",
      "0 :  783124.6777770184   738.0036194872569   1431.0308192000973   1.9067775321445861\n",
      "1 :  735465.2999804845   771.871642837099   1410.9332122713417   1.817513986763024\n",
      "2 :  728162.7098323834   777.0611533065531   1407.7101298462624   1.803619367046399\n",
      "3 :  721673.8877140904   781.6770875258085   1404.823956555137   1.791244798716368\n",
      "4 :  715777.1830762629   785.8756156124834   1402.1831401889021   1.7799759855983617\n",
      "5 :  710335.4987541079   789.7535520837265   1399.7308410825854   1.7695567739684734\n"
     ]
    }
   ],
   "source": [
    "import math as m\n",
    "import matplotlib.pyplot as plt\n",
    "import numpy as np\n",
    "\n",
    "def th(s, ro, u, mu, momth, A):\n",
    "    return s * 0.0575 * momth ** (-0.8) * (ro * u * s / mu) ** (-0.2) * A\n",
    "\n",
    "def A (M, Tw_fact):\n",
    "    return (1 + 0.15 * M ** 2) ** 0.6 / (1 + 0.375 * 0.3 * M ** 2) ** 1.05 * Tw_fact ** 0.6 * (2 / (1 + Tw_fact)) ** 1.05\n",
    "\n",
    "def momth(z, M, Tw_fact):\n",
    "    sum = 0\n",
    "    for i in range(1,len(z)):\n",
    "        sum += 7 / 2 * (z[i] - z[i - 1]) * (((z[i] ** 7 - z[i] ** 8) / ((1 + 0.15 * M ** 2) * ((1 - Tw_fact) * z[i] + Tw_fact) - 0.15 * M ** 2 * z[i] ** 2)) \\\n",
    "                                            + ((z[i - 1] ** 7 - z[i - 1] ** 8) / ((1 + 0.15 * M ** 2) * ((1 - Tw_fact) * z[i - 1] + Tw_fact) - 0.15 * M ** 2 * z[i - 1] ** 2)))\n",
    "    return sum\n",
    "\n",
    "def starT(T, M):\n",
    "    return T * (1 + 0.72 ** (1 / 3) * 0.15 * M ** 2)\n",
    "        \n",
    "def mu(T):\n",
    "    return 18.27e-6 * (411.15) / (T + 120) * (T / 291.15) ** (3 / 2)\n",
    "\n",
    "def Tw_fact(T, M):\n",
    "    global Tw\n",
    "    return Tw / (T * (1 + (0.72) ** (1 / 3) * 0.15 * M ** 2))\n",
    "\n",
    "def toMach(u, T, p, ro):\n",
    "    #return u / m.sqrt(373.1 * T)#287*1.4 and not 1.3\n",
    "    return u / m.sqrt(1.3 * p / ro)\n",
    "\n",
    "def xni(th, momth, A, ro, u, mu):\n",
    "    return (th / (0.0575 * momth ** (-0.8) * A) * (ro * u / mu) ** 0.2) ** (5 / 4)\n",
    "\n",
    "def Rex(ro, u, xni, mu):\n",
    "    return(ro * u * xni / mu)\n",
    "\n",
    "def cf(Rex, momth, A):\n",
    "    return 0.0922 * A * momth ** 0.2 / (Rex ** 0.2)\n",
    "\n",
    "z = [float(i) / 100 for i in range(101)]\n",
    "p_data = []\n",
    "s = [0.0]\n",
    "u = []\n",
    "p = []\n",
    "T = []\n",
    "Tw = 900\n",
    "ro = []\n",
    "x = []\n",
    "y = []\n",
    "M = []\n",
    "T_w =[]\n",
    "delta = [0.0]\n",
    "cap = 1.3\n",
    "#R = 8.31 / 0.029\n",
    "R = 287\n",
    "cp = 36.01\n",
    "M.append(1.01)#checkthisout\n",
    "flag = True\n",
    "p.append(14.8*98066.5 /(1 + 0.15 * M[0] ** 2) ** (1.3 / 0.3))\n",
    "T.append(1650 / (1 + 0.15 * M[0] ** 2))\n",
    "#u.append(m.sqrt(373.1 * T[0])*M[0])\n",
    "ro.append(p[0] / (R * T[0]))\n",
    "u.append(m.sqrt(1.3 * p[0]/ ro[0])*M[0])\n",
    "#p.append(783124.6777770185)\n",
    "#u.append(734.341047899402)\n",
    "#T.append(1431.0308192000973)\n",
    "#ro.append(1.9067775321445863)\n",
    "print(p[0], u[0] , T[0], ro[0])\n",
    "file = open(\"wall_int.txt\")\n",
    "for line in file:\n",
    "    buf = line.split();\n",
    "    if len(buf) > 1:\n",
    "        x.append(float(buf[0]))\n",
    "        y.append(float(buf[1]))       \n",
    "file.close()        \n",
    "file = open(\"p225_int.txt\")\n",
    "for line in file:\n",
    "    buf = line.split();\n",
    "    if len(buf) > 1:\n",
    "        p_data.append(float(buf[1]) * 98066.5)\n",
    "file.close()\n",
    "file = open(\"t_int.txt\")\n",
    "for line in file:\n",
    "    buf = line.split();\n",
    "    if len(buf) > 1:\n",
    "        T_w.append(float(buf[1]))       \n",
    "file.close()  \n",
    "for i in range(1, len(y)):\n",
    "    buf = ((y[i] - y[i-1]) ** 2 + (x[i] - x[i - 1]) ** 2)**0.5\n",
    "    s.append(s[i-1] + buf)\n",
    "i = 1    \n",
    "while x[i] <= 1.65:\n",
    "    \"\"\"{\"\"\"\n",
    "    сur_mu = mu(T[i - 1])\n",
    "    cur_Tw_fact = Tw_fact(T[i - 1], M[i - 1])\n",
    "    cur_A = A(M[i - 1], cur_Tw_fact)\n",
    "    cur_momth = momth(z, M[i - 1], cur_Tw_fact)\n",
    "    cur_th = th(s[i], ro[i - 1], u[i - 1], сur_mu, cur_momth, cur_A)\n",
    "    delta.append(cur_th)\n",
    "    cur_xni = xni(delta[i - 1], cur_momth, cur_A, ro[i - 1], u[i - 1], сur_mu)\n",
    "    cur_Rex = Rex(ro[i - 1], u[i - 1], cur_xni, сur_mu)\n",
    "    if i == 1:\n",
    "        cur_cf = 0\n",
    "    else:\n",
    "        cur_cf = cf(cur_Rex, cur_momth, cur_A)\n",
    "    cur_starT = starT(T[i - 1], M[i - 1])\n",
    "    #q_x = (cur_cf * (cur_starT - Tw) * (x[i] - x[i - 1])) / (4 * T[i - 1] * y[i - 1])\n",
    "    frict = ((x[i] - x[i - 1]) * cur_cf * ro[i - 1] * u[i - 1] ** 2) / (4 * p[i - 1] * abs(y[i - 1]))\n",
    "    area = y[i] / y[i - 1] - 1\n",
    "    buf = u[i - 1] * (1 - 1 / (1 - M[i - 1] ** 2) * (area - frict))\n",
    "    u.append(buf)\n",
    "    buf = p[i - 1] * (1 + cap * M[i - 1] ** 2 / (1 - M[i - 1] ** 2) * (area - ((1 + (cap - 1) * M[i - 1] ** 2) / (cap * M[i - 1] ** 2)) * frict))\n",
    "    p.append(buf)\n",
    "    #print(M[i-1]**2)\n",
    "    buf = T[i - 1] * (1 + 1 / (1 - M[i - 1] ** 2) * ((cap - 1) * M[i - 1] ** 2 * area - (cap - 1) * M[i - 1] ** 2 * frict))\n",
    "    T.append(buf)\n",
    "    #print(T[i])\n",
    "    buf = ro[i - 1] * (1 + 1 / (1 - M[i - 1] ** 2) * (M[i - 1] ** 2 * area - frict))\n",
    "    ro.append(buf)\n",
    "    M.append(toMach(u[i], T[i], p[i], ro[i]))\n",
    "    if ((i - 1) <= 5):\n",
    "        print(i - 1, \": \", p[i-1], \" \", u[i-1], \" \", T[i-1], \" \", ro[i-1])\n",
    "#    if((i  - 1) <= 3):\n",
    "#        print(i - 1,\": area, cf, frict: \", area, cur_cf, frict)\n",
    "#        print(\"xni: \", cur_xni)\n",
    "#        print(\"A: \", cur_A)\n",
    "#        print(\"M: \", M[i - 1]**2)\n",
    "#        print(\"u: \", u[i])\n",
    "#        print(\"sh: \", 1.3 * p[i] / ro[i])\n",
    "        #print(\"Tw: \", cur_Tw_fact)\n",
    "        #print(\"T: \", T[i - 1])\n",
    "        #print(\"sh: \", 1 + (0.72) ** (1 / 3) * 0.15 * M[i - 1] ** 2)\n",
    "        #print(\"dss/d: \", cur_momth)\n",
    "        #print(\"delta: \", delta[i - 1])\n",
    "        #print(\"ro_u: \", ro[i - 1]*u[i - 1])\n",
    "        #print(\"mu: \", сur_mu)\n",
    "#        print(\"s: \", s[i])\n",
    "#        print(\"Rex: \", cur_Rex)\n",
    "    else:\n",
    "        break\n",
    "    i += 1\n",
    "    \"\"\"}\"\"\"\n",
    "#print(M[i - 1])\n",
    "#print(\"Here\")  \n",
    "#while i <= len(y) - 2:\n",
    "    \"\"\"\n",
    "    if x[i - 1] >= 0.325 and flag:\n",
    "        flag = False\n",
    "        G = ro[i - 1] * u[i - 1] * 2 * abs(y[i - 1]) * ( 1 + 1 / (14.8 * 3.2))\n",
    "        print(\"G \", G)\n",
    "        I = ro[i - 1] * u[i - 1] ** 2 + p_data[i - 1]\n",
    "        print(\"I \", I)\n",
    "        H = ro[i - 1] * u[i - 1] * 2 * abs(y[i - 1]) * ((0.5 * u[i - 1] ** 2 + 1.3 * p[i - 1] / (0.3 * ro[i - 1])) + 1.24  * 297 * 290 / (14.5 * 3.2 * (0.24)))\n",
    "        print(\"H \", H)\n",
    "        b1 = -1 * (8 / 3)\n",
    "        b2 = 1.3 * 2 * abs(y[i - 1]) * I / (0.3 * G)\n",
    "        b3 = (-1) *  H / G\n",
    "        u[i - 1] = (-b2 - m.sqrt(b2 ** 2 - 4 * b1 * b3)) / (2 * b1)\n",
    "        ro[i - 1] = G / (u[i - 1] * 2 * abs(y[i - 1]))\n",
    "        p_data[i - 1] = I - ro[i - 1] * u[i - 1] ** 2\n",
    "        T[i - 1] = T[i - 1]\n",
    "        print(i, p_data[i - 1], u[i - 1], T[i - 1], ro[i - 1], sep = \" \")   \n",
    "    \"\"\"\n",
    "    \"\"\"сur_mu = mu(T[i - 1])\n",
    "    if T_w[i] == 0:\n",
    "        cur_Tw_fact = Tw_fact(T[i - 1], M[i - 1])\n",
    "    else:\n",
    "        cur_Tw_fact = T_w[i] + 273.3\n",
    "    cur_A = A(M[i - 1], cur_Tw_fact)\n",
    "    cur_momth = momth(z, M[i - 1], cur_Tw_fact)\n",
    "    cur_th = th(s[i], ro[i - 1], u[i - 1], сur_mu, cur_momth, cur_A)\n",
    "    delta.append(cur_th)\n",
    "    cur_xni = xni(delta[i - 1], cur_momth, cur_A, ro[i - 1], u[i - 1], сur_mu)\n",
    "    cur_Rex = Rex(ro[i - 1], u[i - 1], cur_xni, сur_mu)\n",
    "    cur_cf = cf(cur_Rex, cur_momth, cur_A)\n",
    "    cur_starT = starT(T[i - 1], M[i - 1])\n",
    "    frict = ((x[i] - x[i - 1]) * cur_cf * ro[i - 1] * u[i - 1] ** 2) / (4 * p[i - 1] * abs(y[i - 1]))\n",
    "    area = y[i] / y[i - 1] - 1\n",
    "    #print(i, \" \", p_data[i + 1])\n",
    "    if i < 7578:\n",
    "        q_x = (cur_cf * (cur_starT - Tw) * (x[i] - x[i - 1])) / (4 * T[i - 1] * abs(y[i - 1]))\n",
    "    else:\n",
    "        #print(\"Hernya tut -->\", p_data[i] - 1)\n",
    "        q_x = -1 * (area - (1 + 0.3 * M[i - 1] ** 2) / (1.3 * M[i - 1] ** 2) * frict - (1 - M[i - 1] ** 2) / (1.3 * M[i - 1] ** 2) *(p_data[i + 1] - p_data[i - 1]) / (2 * p_data[i])) \n",
    "    #print(i,\" \", q_x)\n",
    "    buf = u[i - 1] * (1 - 1 / (1 - M[i - 1] ** 2) * (area + q_x - frict))\n",
    "    u.append(buf)\n",
    "    if i < 7578:\n",
    "        buf = p[i - 1] * (1 + cap * M[i - 1] ** 2 / (1 - M[i - 1] ** 2) * (area + q_x - ((1 + (cap - 1) * M[i -1] ** 2) / (cap * M[i -1] ** 2)) * frict))\n",
    "    else:\n",
    "        buf = p_data[i]\n",
    "    p.append(buf)\n",
    "    buf = T[i - 1] * (1 + 1 / (1 - M[i - 1] ** 2) * ((cap - 1) * M[i - 1] ** 2 * area - (1 - cap * M[i - 1] ** 2) * q_x - (cap - 1) * M[i - 1] ** 2 * frict))\n",
    "    T.append(buf)\n",
    "    #print(T[i])\n",
    "    buf = ro[i - 1] * (1 + 1 / (1 - M[i - 1] ** 2) * (M[i - 1] ** 2 * area + q_x - frict))\n",
    "    ro.append(buf)\n",
    "    M.append(toMach(u[i], T[i]))\n",
    "    if ((i - 1) % 500 == 0):\n",
    "        print(i - 1, \": \", p[i-1], \" \", u[i-1], \" \", T[i-1], \" \", ro[i-1])\n",
    "    #print((cap * M[i - 1] ** 2 - 1) * q_x,\" \", (cap - 1) * M[i - 1] ** 2 * frict)\n",
    "    if x[i] >= 0.325 and flag:\n",
    "        flag = False\n",
    "        G = ro[i] * u[i] * 2 * abs(y[i]) * 0.1 * ( 1 + 1 / (14.8 * 3.2))\n",
    "#        G = ro[i] * u[i] * y[i] * ( 1 + 1 / (14.8 * 3.2))\n",
    "        print(\"G \", G)\n",
    "        I = ro[i] * u[i] ** 2 + p[i]\n",
    "        print(\"I \", I)\n",
    "        H = ro[i] * u[i] * 2 * abs(y[i]) * 0.1 * ((0.5 * u[i] ** 2 + 1.3 * p[i] / (0.3 * ro[i])) + 1.24  * 297 * 290 / (14.5 * 3.2 * (0.24)))\n",
    "#        H = ro[i] * u[i]  * y[i] * ((0.5 * u[i] ** 2 + 1.3 * p[i] / (0.3 * ro[i])) + 1.24  * 297 * 290 / (14.5 * 3.2 * (0.24)))\n",
    "        print(\"H \", H)\n",
    "#        b1 = -1 * (8 / 3)\n",
    "        b1 = 0.5 - 1.3/0.3\n",
    "        b2 = 1.3 * 2 * abs(y[i]) * 0.1 * I / (0.3 * G)\n",
    "#        b2 = 1.3 * y[i] * I / (0.3 * G)\n",
    "        b3 = (-1) *  H / G\n",
    "        u[i] = (-b2 - m.sqrt(b2 ** 2 - 4 * b1 * b3)) / (2 * b1)\n",
    "        ro[i] = G / (u[i] * 2 * abs(y[i]) * 0.1)\n",
    "#        ro[i] = G / (u[i] * y[i])\n",
    "        p_data[i] = I - ro[i] * u[i] ** 2\n",
    "        #print(i - 1, \": \", p[i-1], \" \", u[i-1], \" \", T[i-1], \" \", ro[i-1])   \n",
    "    i += 1\n",
    "print(\"End\")\n",
    "    \"\"\"   "
   ]
  },
  {
   "cell_type": "code",
   "execution_count": 2,
   "metadata": {},
   "outputs": [],
   "source": [
    "#wr = open(r\"n1.txt\", \"w\")\n",
    "#for i in range(-1, 50000, 500):\n",
    "#    if i < 0:\n",
    "#            wr.write(str(p[0]) + \" \" + str(u[0]) + \" \" + str(T[0]) + \" \" + str(ro[0]) + \"\\n\")\n",
    "#    elif i >=49999:        \n",
    "#        wr.write(str(p[-1]) + \" \" + str(u[-1]) + \" \" + str(T[-1]) + \" \" + str(ro[-1]) + \"\\n\")\n",
    "#    else:\n",
    "#        wr.write(str(p[i]) + \" \" + str(u[i]) + \" \" + str(T[i]) + \" \" + str(ro[i]) + \"\\n\")\n",
    "#wr.close()\n",
    "wr = open(r\"nT.txt\", \"w\")\n",
    "for i in range(0, 50000, 10):       \n",
    "        wr.write(str(T[i])+\"\\n\")\n",
    "wr.close()\n",
    "wr = open(r\"nM.txt\", \"w\")\n",
    "for i in range(0, 50000, 10):\n",
    "        wr.write(str(M[i])+\"\\n\")\n",
    "wr.close()\n",
    "                 "
   ]
  },
  {
   "cell_type": "code",
   "execution_count": 3,
   "metadata": {
    "scrolled": true
   },
   "outputs": [
    {
     "name": "stdout",
     "output_type": "stream",
     "text": [
      "0.005319982\n",
      "0.007679458707767822\n",
      "0.009800293654627392\n",
      "0.011570913477969045\n",
      "0.012936115595932541\n",
      "0.01389292764267913\n",
      "0.01453735643342899\n",
      "0.014886027775472158\n",
      "0.014980274924622504\n",
      "0.014999999664724\n",
      "0.014999999664724\n",
      "0.014999999664724\n",
      "0.014999999664724\n",
      "0.014999999664724\n",
      "0.014999999664724\n",
      "0.014999999664724\n",
      "0.014999999664724\n",
      "0.014999999664724\n",
      "0.014999999664724\n",
      "0.014999999664724\n",
      "0.014999999664724\n",
      "0.014999999664724\n",
      "0.014999999664724\n",
      "0.014999999664724\n",
      "0.014999999664724\n",
      "0.014999999664724\n",
      "0.014999999664724\n",
      "0.014999999664724\n",
      "0.014999999664724\n",
      "0.014999999664724\n",
      "0.014999999664724\n",
      "0.014999999664724\n",
      "0.014999999664724\n",
      "0.014999999664724\n",
      "0.015192695876999313\n",
      "0.015481451665373413\n",
      "0.01577020745374835\n",
      "0.01605896324212228\n",
      "0.016347719030497056\n",
      "0.016636474818871316\n",
      "0.016925230607274806\n",
      "0.017213986395708383\n",
      "0.017502742184141842\n",
      "0.017791497972575447\n",
      "0.018080253761008882\n",
      "0.01836900954944266\n",
      "0.018657765337877094\n",
      "0.018946521126310525\n",
      "0.019235276914744137\n",
      "0.019524032703177742\n",
      "0.019812788491611173\n",
      "0.02010154428004478\n",
      "0.02039030006847827\n",
      "0.02067905585691282\n",
      "0.020967811645346425\n",
      "0.02125656743377986\n",
      "0.021545323222213468\n",
      "0.021834079010647073\n",
      "0.022122834799080504\n",
      "0.022411590587514282\n",
      "0.02270034637594872\n",
      "0.022989102164381946\n",
      "0.02327785795281634\n",
      "0.023566613741248986\n",
      "0.02385536952968338\n",
      "0.024144125318116022\n",
      "0.024432881106550418\n",
      "0.02472163689498406\n",
      "0.025010392683418457\n",
      "0.0252991484718511\n",
      "0.025499999523163\n",
      "0.025499999523163\n",
      "0.025499999523163\n",
      "0.025499999523163\n",
      "0.025499999523163\n",
      "0.025499999523163\n",
      "0.025499999523163\n",
      "0.025499999523163\n",
      "0.025499999523163\n",
      "0.025499999523163\n",
      "0.025499999523163\n",
      "0.025499999523163\n",
      "0.025499999523163\n",
      "0.025499999523163\n",
      "0.025499999523163\n",
      "0.025499999523163\n",
      "0.025499999523163\n",
      "0.025499999523163\n",
      "0.025499999523163\n",
      "0.025499999523163\n",
      "0.025499999523163\n",
      "0.025499999523163\n",
      "0.025499999523163\n",
      "0.025499999523163\n",
      "0.025499999523163\n",
      "0.025499999523163\n",
      "0.025499999523163\n",
      "0.025527929007089514\n",
      "0.026394196449228805\n",
      "0.027260463891363156\n"
     ]
    }
   ],
   "source": [
    "for i in range(len(y)):\n",
    "    if i % 500 == 0:\n",
    "        print(abs(y[i]))"
   ]
  },
  {
   "cell_type": "code",
   "execution_count": 4,
   "metadata": {},
   "outputs": [
    {
     "data": {
      "image/png": "[encoded data removed]",
      "text/plain": [
       "<Figure size 432x288 with 1 Axes>"
      ]
     },
     "metadata": {
      "needs_background": "light"
     },
     "output_type": "display_data"
    }
   ],
   "source": [
    "tochki = x[4394:16515]\n",
    "davlen = T[4394:16515]\n",
    "plt.title('Temperature')\n",
    "plt.xlabel('x, м')\n",
    "plt.ylabel('T, К')\n",
    "plt.plot(np.array(tochki), np.array(davlen))\n",
    "plt.grid(True)\n",
    "plt.show()"
   ]
  },
  {
   "cell_type": "code",
   "execution_count": 5,
   "metadata": {
    "scrolled": true
   },
   "outputs": [
    {
     "data": {
      "image/png": "[encoded data removed]",
      "text/plain": [
       "<Figure size 432x288 with 1 Axes>"
      ]
     },
     "metadata": {
      "needs_background": "light"
     },
     "output_type": "display_data"
    }
   ],
   "source": [
    "xnp = np.array(x)\n",
    "plt.title('pressure')\n",
    "plt.xlabel('x, м')\n",
    "plt.ylabel('P, Па')\n",
    "plt.plot(x[:49998], np.array(p[:49998]))\n",
    "plt.grid(True)\n",
    "plt.show()"
   ]
  },
  {
   "cell_type": "code",
   "execution_count": 6,
   "metadata": {},
   "outputs": [
    {
     "data": {
      "image/png": "[encoded data removed]",
      "text/plain": [
       "<Figure size 432x288 with 1 Axes>"
      ]
     },
     "metadata": {
      "needs_background": "light"
     },
     "output_type": "display_data"
    }
   ],
   "source": [
    "plt.title('velocity')\n",
    "plt.xlabel('x, м')\n",
    "plt.ylabel('v, м/с')\n",
    "plt.plot(x[:49998], np.array(u[:49998]))\n",
    "plt.grid(True)\n",
    "plt.show()"
   ]
  },
  {
   "cell_type": "code",
   "execution_count": 7,
   "metadata": {},
   "outputs": [
    {
     "data": {
      "image/png": "[encoded data removed]",
      "text/plain": [
       "<Figure size 432x288 with 1 Axes>"
      ]
     },
     "metadata": {
      "needs_background": "light"
     },
     "output_type": "display_data"
    }
   ],
   "source": [
    "plt.title('temperature')\n",
    "plt.plot(x[:49998], np.array(T[:49998]))\n",
    "plt.xlabel('x, м')\n",
    "plt.ylabel('T, К')\n",
    "plt.grid(True)\n",
    "plt.show()"
   ]
  },
  {
   "cell_type": "code",
   "execution_count": 8,
   "metadata": {},
   "outputs": [
    {
     "data": {
      "image/png": "[encoded data removed]",
      "text/plain": [
       "<Figure size 432x288 with 1 Axes>"
      ]
     },
     "metadata": {
      "needs_background": "light"
     },
     "output_type": "display_data"
    }
   ],
   "source": [
    "plt.title('density')\n",
    "plt.plot(x[:49998], np.array(ro[:49998]))\n",
    "plt.xlabel('x, м')\n",
    "plt.ylabel('P, кг/м')\n",
    "plt.grid(True)\n",
    "plt.show()"
   ]
  },
  {
   "cell_type": "code",
   "execution_count": 9,
   "metadata": {
    "scrolled": true
   },
   "outputs": [
    {
     "data": {
      "image/png": "[encoded data removed]",
      "text/plain": [
       "<Figure size 432x288 with 1 Axes>"
      ]
     },
     "metadata": {
      "needs_background": "light"
     },
     "output_type": "display_data"
    }
   ],
   "source": [
    "#th_M = []\n",
    "#file = open(\"resm_th.txt\")\n",
    "#for line in file:\n",
    "    #th_M.append(float(line))\n",
    "#file.close()\n",
    "#import matplotlib.pyplot as plt\n",
    "plt.title('Mach')\n",
    "plt.plot(x[:49998], np.array(M[:49998]))\n",
    "#plt.plot(x[:49998], np.array(th_M[:49998]))\n",
    "plt.xlabel('x, м')\n",
    "plt.ylabel('M, ед.')\n",
    "plt.grid(True)\n",
    "plt.show()"
   ]
  },
  {
   "cell_type": "code",
   "execution_count": 10,
   "metadata": {},
   "outputs": [
    {
     "data": {
      "image/png": "[encoded data removed]",
      "text/plain": [
       "<Figure size 432x288 with 1 Axes>"
      ]
     },
     "metadata": {
      "needs_background": "light"
     },
     "output_type": "display_data"
    }
   ],
   "source": [
    "dx = []\n",
    "for i in range(len(x) - 2):\n",
    "    dx.append(x[i + 1] - x[i])\n",
    "    \n",
    "plt.plot(range(len(x) - 2), dx)\n",
    "plt.show()"
   ]
  },
  {
   "cell_type": "code",
   "execution_count": 11,
   "metadata": {
    "scrolled": false
   },
   "outputs": [
    {
     "data": {
      "image/png": "[encoded data removed]",
      "text/plain": [
       "<Figure size 432x288 with 1 Axes>"
      ]
     },
     "metadata": {
      "needs_background": "light"
     },
     "output_type": "display_data"
    }
   ],
   "source": [
    "tochki = x[34849:48485]\n",
    "davlen = T[34849:48485]\n",
    "plt.title('pressure')\n",
    "plt.xlabel('x, м')\n",
    "plt.ylabel('P, Па')\n",
    "plt.plot(np.array(tochki), np.array(davlen))\n",
    "plt.grid(True)\n",
    "plt.show()   "
   ]
  },
  {
   "cell_type": "code",
   "execution_count": 10,
   "metadata": {},
   "outputs": [
    {
     "name": "stdout",
     "output_type": "stream",
     "text": [
      "0\n",
      "1\n",
      "2\n",
      "3\n",
      "4\n",
      "5\n",
      "6\n",
      "7\n",
      "8\n",
      "9\n",
      "10\n",
      "11\n",
      "12\n",
      "13\n",
      "14\n",
      "15\n",
      "16\n",
      "17\n",
      "18\n",
      "19\n",
      "20\n",
      "21\n",
      "22\n",
      "23\n",
      "24\n",
      "25\n",
      "26\n",
      "27\n",
      "28\n",
      "29\n",
      "30\n",
      "31\n",
      "32\n",
      "33\n",
      "34\n",
      "35\n",
      "36\n",
      "37\n",
      "38\n",
      "39\n",
      "40\n",
      "41\n",
      "42\n",
      "43\n",
      "44\n",
      "45\n",
      "46\n",
      "47\n",
      "48\n",
      "49\n",
      "50\n"
     ]
    },
    {
     "ename": "IndexError",
     "evalue": "index 50 is out of bounds for axis 0 with size 50",
     "output_type": "error",
     "traceback": [
      "\u001b[1;31m---------------------------------------------------------------------------\u001b[0m",
      "\u001b[1;31mIndexError\u001b[0m                                Traceback (most recent call last)",
      "\u001b[1;32m<ipython-input-10-88db1d0c7dc4>\u001b[0m in \u001b[0;36m<module>\u001b[1;34m()\u001b[0m\n\u001b[0;32m      5\u001b[0m \u001b[1;32mfor\u001b[0m \u001b[0mk\u001b[0m \u001b[1;32min\u001b[0m \u001b[0mrange\u001b[0m\u001b[1;33m(\u001b[0m\u001b[0mlen\u001b[0m\u001b[1;33m(\u001b[0m\u001b[0mm\u001b[0m\u001b[1;33m)\u001b[0m\u001b[1;33m)\u001b[0m\u001b[1;33m:\u001b[0m\u001b[1;33m\u001b[0m\u001b[0m\n\u001b[0;32m      6\u001b[0m     \u001b[0mprint\u001b[0m\u001b[1;33m(\u001b[0m\u001b[0mk\u001b[0m\u001b[1;33m)\u001b[0m\u001b[1;33m\u001b[0m\u001b[0m\n\u001b[1;32m----> 7\u001b[1;33m     \u001b[1;32mif\u001b[0m \u001b[1;33m(\u001b[0m\u001b[0mm\u001b[0m\u001b[1;33m[\u001b[0m\u001b[0mk\u001b[0m\u001b[1;33m]\u001b[0m\u001b[1;33m<=\u001b[0m\u001b[1;36m0\u001b[0m\u001b[1;33m)\u001b[0m \u001b[1;32mor\u001b[0m \u001b[1;33m(\u001b[0m\u001b[0mm\u001b[0m\u001b[1;33m[\u001b[0m\u001b[0mk\u001b[0m\u001b[1;33m]\u001b[0m\u001b[1;33m>\u001b[0m\u001b[1;36m2500\u001b[0m\u001b[1;33m)\u001b[0m\u001b[1;33m:\u001b[0m\u001b[1;33m\u001b[0m\u001b[0m\n\u001b[0m\u001b[0;32m      8\u001b[0m         \u001b[0mm\u001b[0m\u001b[1;33m=\u001b[0m\u001b[0mnp\u001b[0m\u001b[1;33m.\u001b[0m\u001b[0mdelete\u001b[0m\u001b[1;33m(\u001b[0m\u001b[0mm\u001b[0m\u001b[1;33m,\u001b[0m\u001b[1;33m[\u001b[0m\u001b[0mk\u001b[0m\u001b[1;33m]\u001b[0m\u001b[1;33m)\u001b[0m\u001b[1;33m\u001b[0m\u001b[0m\n\u001b[0;32m      9\u001b[0m         \u001b[0mk\u001b[0m\u001b[1;33m-=\u001b[0m\u001b[1;36m1\u001b[0m\u001b[1;33m\u001b[0m\u001b[0m\n",
      "\u001b[1;31mIndexError\u001b[0m: index 50 is out of bounds for axis 0 with size 50"
     ]
    }
   ],
   "source": [
    "import numpy as np\n",
    "m = np.zeros(100)\n",
    "\n",
    "    \n",
    "for k in range(len(m)):\n",
    "    print(k)\n",
    "    if (m[k]<=0) or (m[k]>2500):\n",
    "        m=np.delete(m,[k])\n",
    "        k-=1\n",
    "        \n",
    "print(m)        "
   ]
  },
  {
   "cell_type": "code",
   "execution_count": null,
   "metadata": {},
   "outputs": [],
   "source": []
  }
 ],
 "metadata": {
  "kernelspec": {
   "display_name": "Python 3",
   "language": "python",
   "name": "python3"
  },
  "language_info": {
   "codemirror_mode": {
    "name": "ipython",
    "version": 3
   },
   "file_extension": ".py",
   "mimetype": "text/x-python",
   "name": "python",
   "nbconvert_exporter": "python",
   "pygments_lexer": "ipython3",
   "version": "3.5.6"
  }
 },
 "nbformat": 4,
 "nbformat_minor": 2
}
